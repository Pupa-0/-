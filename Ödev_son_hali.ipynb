{
  "cells": [
    {
      "cell_type": "markdown",
      "metadata": {
        "id": "view-in-github",
        "colab_type": "text"
      },
      "source": [
        "<a href=\"https://colab.research.google.com/github/Pupa-0/-/blob/main/O%CC%88dev_son_hali.ipynb\" target=\"_parent\"><img src=\"https://colab.research.google.com/assets/colab-badge.svg\" alt=\"Open In Colab\"/></a>"
      ]
    },
    {
      "cell_type": "markdown",
      "id": "319e1f39-52c1-4206-a372-f237d1a40229",
      "metadata": {
        "id": "319e1f39-52c1-4206-a372-f237d1a40229"
      },
      "source": [
        "SORU1"
      ]
    },
    {
      "cell_type": "markdown",
      "id": "26f43a7a-3c8e-4309-a7fd-9ac7d8706b50",
      "metadata": {
        "id": "26f43a7a-3c8e-4309-a7fd-9ac7d8706b50"
      },
      "source": [
        "Bir öğrencinin aldığı üç sınav notunun ortalamasını hesaplayan kodu yazın."
      ]
    },
    {
      "cell_type": "code",
      "execution_count": 1,
      "id": "7ed474fd-69ff-4c69-a972-c938e5501f2e",
      "metadata": {
        "colab": {
          "base_uri": "https://localhost:8080/"
        },
        "id": "7ed474fd-69ff-4c69-a972-c938e5501f2e",
        "outputId": "ea971f0f-d14d-46d3-919f-63671e830fdd"
      },
      "outputs": [
        {
          "output_type": "stream",
          "name": "stdout",
          "text": [
            "Ortalama: 69.13333333333334\n"
          ]
        }
      ],
      "source": [
        "#Soru 1\n",
        "exam1 = 70.0\n",
        "exam2 = 40.0\n",
        "exam3 = 97.4\n",
        "average = (exam1 + exam2 + exam3) / 3\n",
        "print(\"Ortalama:\", average)"
      ]
    },
    {
      "cell_type": "markdown",
      "id": "b35c15e9-1895-41fd-bd23-9403f957735d",
      "metadata": {
        "id": "b35c15e9-1895-41fd-bd23-9403f957735d"
      },
      "source": [
        "SORU2"
      ]
    },
    {
      "cell_type": "markdown",
      "id": "62a96523-e992-452a-b958-9d4671582e84",
      "metadata": {
        "id": "62a96523-e992-452a-b958-9d4671582e84"
      },
      "source": [
        "Bir string'in uzunluğunu bulun.\n"
      ]
    },
    {
      "cell_type": "code",
      "execution_count": 2,
      "id": "f8e72b37-7a10-435f-aa51-a6c96fdf1e3b",
      "metadata": {
        "colab": {
          "base_uri": "https://localhost:8080/"
        },
        "id": "f8e72b37-7a10-435f-aa51-a6c96fdf1e3b",
        "outputId": "9cfac211-eea8-4c80-8b73-4ebf1774f511"
      },
      "outputs": [
        {
          "output_type": "stream",
          "name": "stdout",
          "text": [
            "12\n"
          ]
        }
      ],
      "source": [
        "name = \"UcuncuBinYil\"\n",
        "length = len(name)\n",
        "print(length)"
      ]
    },
    {
      "cell_type": "markdown",
      "id": "33a18af7-0514-44b9-8337-2deedb0af1ed",
      "metadata": {
        "id": "33a18af7-0514-44b9-8337-2deedb0af1ed"
      },
      "source": [
        "SORU3"
      ]
    },
    {
      "cell_type": "markdown",
      "id": "83c3bebe-994b-4a80-80ec-23b2166af041",
      "metadata": {
        "id": "83c3bebe-994b-4a80-80ec-23b2166af041"
      },
      "source": [
        "Bir float sayıyı bir tam sayıya yuvarlayın.\n"
      ]
    },
    {
      "cell_type": "code",
      "execution_count": 3,
      "id": "a8e5d2c0-df91-4bfc-b94d-7f5e7138fda0",
      "metadata": {
        "colab": {
          "base_uri": "https://localhost:8080/"
        },
        "id": "a8e5d2c0-df91-4bfc-b94d-7f5e7138fda0",
        "outputId": "0f731a7d-58f2-4703-c9a8-e4004fff9ba7"
      },
      "outputs": [
        {
          "output_type": "stream",
          "name": "stdout",
          "text": [
            "9\n"
          ]
        }
      ],
      "source": [
        "num = 8.875875897809\n",
        "rounded_num = round(num)\n",
        "print(rounded_num)"
      ]
    },
    {
      "cell_type": "markdown",
      "id": "4936edfa-e0a9-4490-96cd-2991f3d0082c",
      "metadata": {
        "id": "4936edfa-e0a9-4490-96cd-2991f3d0082c"
      },
      "source": [
        "SORU4"
      ]
    },
    {
      "cell_type": "markdown",
      "id": "174fcf74-ab02-4b29-9f1a-23ef3bc34840",
      "metadata": {
        "id": "174fcf74-ab02-4b29-9f1a-23ef3bc34840"
      },
      "source": [
        "İki float sayının çarpımını hesaplayın."
      ]
    },
    {
      "cell_type": "code",
      "execution_count": 4,
      "id": "3717c5ca-2e53-409e-b2f8-3bea251e50e2",
      "metadata": {
        "colab": {
          "base_uri": "https://localhost:8080/"
        },
        "id": "3717c5ca-2e53-409e-b2f8-3bea251e50e2",
        "outputId": "0793878f-b1b0-4f4c-ec7e-3ca21cad9680"
      },
      "outputs": [
        {
          "output_type": "stream",
          "name": "stdout",
          "text": [
            "628.3199999999999\n"
          ]
        }
      ],
      "source": [
        "x = 81.6\n",
        "y = 7.7\n",
        "product = x * y\n",
        "print(product)"
      ]
    },
    {
      "cell_type": "markdown",
      "id": "3f8407c6-efad-439d-bbfd-7312fca88072",
      "metadata": {
        "id": "3f8407c6-efad-439d-bbfd-7312fca88072"
      },
      "source": [
        "SORU5"
      ]
    },
    {
      "cell_type": "markdown",
      "id": "bf1b564e-52ab-42b1-b653-a9db1665cd5b",
      "metadata": {
        "id": "bf1b564e-52ab-42b1-b653-a9db1665cd5b"
      },
      "source": [
        "İki değerin eşit olup olmadığını kontrol edin."
      ]
    },
    {
      "cell_type": "code",
      "source": [
        "a = 89546341705\n",
        "b = 89548341705\n",
        "are_equal = (a == b)\n",
        "print(are_equal)"
      ],
      "metadata": {
        "colab": {
          "base_uri": "https://localhost:8080/"
        },
        "id": "uPOdqCCRxsiS",
        "outputId": "1c4c3f03-8db5-48ac-c609-606ecd803721"
      },
      "id": "uPOdqCCRxsiS",
      "execution_count": 6,
      "outputs": [
        {
          "output_type": "stream",
          "name": "stdout",
          "text": [
            "False\n"
          ]
        }
      ]
    },
    {
      "cell_type": "code",
      "source": [],
      "metadata": {
        "id": "fmvq22wJx7P9"
      },
      "id": "fmvq22wJx7P9",
      "execution_count": null,
      "outputs": []
    }
  ],
  "metadata": {
    "kernelspec": {
      "display_name": "Python 3 (ipykernel)",
      "language": "python",
      "name": "python3"
    },
    "language_info": {
      "codemirror_mode": {
        "name": "ipython",
        "version": 3
      },
      "file_extension": ".py",
      "mimetype": "text/x-python",
      "name": "python",
      "nbconvert_exporter": "python",
      "pygments_lexer": "ipython3",
      "version": "3.11.7"
    },
    "colab": {
      "provenance": [],
      "include_colab_link": true
    }
  },
  "nbformat": 4,
  "nbformat_minor": 5
}